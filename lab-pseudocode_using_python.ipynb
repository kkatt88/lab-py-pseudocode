{
 "cells": [
  {
   "cell_type": "markdown",
   "metadata": {},
   "source": [
    "# LAB | Pseudocode Using Python\n",
    "\n",
    "## Overview\n",
    "\n",
    "This exercise will help you practice writing pseudocode and translating it into Python code. Pseudocode is a way to describe algorithms in a human-readable format, which can then be implemented in programming languages.\n",
    "\n"
   ]
  },
  {
   "cell_type": "markdown",
   "metadata": {},
   "source": [
    "### Exercise 1: Multiply Two Numbers\n",
    "\n",
    "Write a pseudocode to read two numbers and multiply them together. Then, write the equivalent Python code."
   ]
  },
  {
   "cell_type": "markdown",
   "metadata": {},
   "source": [
    "<!-- Add your pseudocode here -->"
   ]
  },
  {
   "cell_type": "markdown",
   "metadata": {},
   "source": [
    "Note: to include intendations in the pseudocode part, I used '&nbsp ;' in the markdown. "
   ]
  },
  {
   "cell_type": "markdown",
   "metadata": {},
   "source": [
    "Pseudocode:\n",
    "1. READ first number from user\n",
    "2. READ second number from user\n",
    "3. SET result = first_number * second_number\n",
    "4. PRINT result"
   ]
  },
  {
   "cell_type": "code",
   "execution_count": 5,
   "metadata": {},
   "outputs": [
    {
     "name": "stdout",
     "output_type": "stream",
     "text": [
      "The product of 5.0 and 6.0 is: 30.0\n"
     ]
    }
   ],
   "source": [
    "def multiply_two_numbers():\n",
    "    \n",
    "    first_number = float(input(\"first number\"))\n",
    "    second_number = float(input(\"second number\"))\n",
    "    \n",
    "    result = first_number * second_number\n",
    "    \n",
    "    print(f\"The product of {first_number} and {second_number} is: {result}\")\n",
    "\n",
    "multiply_two_numbers()"
   ]
  },
  {
   "cell_type": "markdown",
   "metadata": {},
   "source": [
    "### Exercise 2: Check Even or Odd\n",
    "\n",
    "Write pseudocode that checks if a number is even or odd and prints the result. Then, write the equivalent Python code."
   ]
  },
  {
   "cell_type": "markdown",
   "metadata": {},
   "source": [
    "<!-- Add your pseudocode here -->"
   ]
  },
  {
   "cell_type": "markdown",
   "metadata": {},
   "source": [
    "Pseudocode:\n",
    "1. READ number from user\n",
    "2. IF number % 2 == 0 THEN\n",
    "3. &nbsp;&nbsp;&nbsp;&nbsp;PRINT \"The number is even\"\n",
    "4. ELSE\n",
    "5. &nbsp;&nbsp;&nbsp;&nbsp;PRINT \"The number is odd\"\n",
    "6. END IF"
   ]
  },
  {
   "cell_type": "code",
   "execution_count": null,
   "metadata": {},
   "outputs": [
    {
     "name": "stdout",
     "output_type": "stream",
     "text": [
      "3 is odd\n"
     ]
    }
   ],
   "source": [
    "def check_even_odd():\n",
    "    \n",
    "    number = int(input(\"Enter a number: \"))\n",
    "    \n",
    "    if number % 2 == 0:\n",
    "        print(f\"{number} is even\")\n",
    "    else:\n",
    "        print(f\"{number} is odd\")\n",
    "check_even_odd()"
   ]
  },
  {
   "cell_type": "markdown",
   "metadata": {},
   "source": [
    "### Exercise 3: Sum of First N Natural Numbers\n",
    "\n",
    "Write pseudocode to calculate the sum of the first N natural numbers. Then, write the equivalent Python code."
   ]
  },
  {
   "cell_type": "markdown",
   "metadata": {},
   "source": [
    "<!-- Add your pseudocode here -->"
   ]
  },
  {
   "cell_type": "markdown",
   "metadata": {},
   "source": [
    "Pseudocode:\n",
    "1. READ n from user\n",
    "2. SET sum = 0\n",
    "3. FOR i = 1 TO n\n",
    "4. &nbsp;&nbsp;&nbsp;&nbsp;SET sum = sum + i\n",
    "5. END FOR\n",
    "6. PRINT sum\n",
    "7. CALL function"
   ]
  },
  {
   "cell_type": "code",
   "execution_count": null,
   "metadata": {},
   "outputs": [
    {
     "name": "stdout",
     "output_type": "stream",
     "text": [
      "The sum of the first 5 natural numbers is: 15\n"
     ]
    }
   ],
   "source": [
    "def sum_of_first_n_natural_numbers():\n",
    "    \n",
    "    n = int(input(\"Enter a positive integer: \"))\n",
    "    \n",
    "    sum = 0\n",
    "    for i in range(1, n + 1):\n",
    "        sum += i\n",
    "    print(f\"The sum of the first {n} natural numbers is: {sum}\")\n",
    "\n",
    "sum_of_first_n_natural_numbers()"
   ]
  },
  {
   "cell_type": "markdown",
   "metadata": {},
   "source": [
    "### Exercise 4: Find Maximum of Three Numbers\n",
    "\n",
    "Write pseudocode that finds the maximum of three numbers entered by the user. Then, write the equivalent Python code."
   ]
  },
  {
   "cell_type": "markdown",
   "metadata": {},
   "source": [
    "<!-- Add your pseudocode here -->"
   ]
  },
  {
   "cell_type": "markdown",
   "metadata": {},
   "source": [
    "Pseudocode:\n",
    "1. READ num1 from user\n",
    "2. READ num2 from user\n",
    "3. READ num3 from user\n",
    "4. SET max_num = max(num1, num2, num3)  // Use max() function\n",
    "5. PRINT \"The maximum of num1, num2, and num3 is: max_num\"\n",
    "6. END"
   ]
  },
  {
   "cell_type": "code",
   "execution_count": null,
   "metadata": {},
   "outputs": [
    {
     "name": "stdout",
     "output_type": "stream",
     "text": [
      "The maximum of 5.0, 1.0, and 6.0 is: 6.0\n"
     ]
    }
   ],
   "source": [
    "def find_maximum_of_three_numbers_builtin():\n",
    "    \n",
    "    num1 = float(input(\"Enter the first number: \"))\n",
    "    num2 = float(input(\"Enter the second number: \"))\n",
    "    num3 = float(input(\"Enter the third number: \"))\n",
    "\n",
    "    max_num = max(num1, num2, num3)\n",
    "    \n",
    "    print(f\"The maximum of {num1}, {num2}, and {num3} is: {max_num}\")\n",
    "\n",
    "find_maximum_of_three_numbers_builtin()"
   ]
  },
  {
   "cell_type": "markdown",
   "metadata": {},
   "source": [
    "### Exercise 5: Count Vowels in a String\n",
    "\n",
    "Write pseudocode to count the number of vowels in a given string and print the count. Then, write the equivalent Python code."
   ]
  },
  {
   "cell_type": "markdown",
   "metadata": {},
   "source": [
    "Pseudocode:\n",
    "1. READ input_string from user\n",
    "2. SET vowels = {'a', 'e', 'i', 'o', 'u'}\n",
    "3. SET count = 0\n",
    "4. FOR each character in input_string\n",
    "5. &nbsp;&nbsp;&nbsp;&nbsp;IF character.lowercase is in vowels THEN\n",
    "6. &nbsp;&nbsp;&nbsp;&nbsp;&nbsp;&nbsp;&nbsp;INCREMENT count\n",
    "7. END IF\n",
    "8. END FOR\n",
    "9. PRINT count"
   ]
  },
  {
   "cell_type": "code",
   "execution_count": 20,
   "metadata": {},
   "outputs": [
    {
     "name": "stdout",
     "output_type": "stream",
     "text": [
      "The number of vowels in 'artificial' is: 5\n"
     ]
    }
   ],
   "source": [
    "def count_vowels_in_string():\n",
    "    \n",
    "    input_string = input(\"Enter a string: \")\n",
    "    vowels = {'a', 'e', 'i', 'o', 'u'}\n",
    "    count = 0\n",
    "    for char in input_string:\n",
    "        if char.lower() in vowels:\n",
    "            count += 1\n",
    "    print(f\"The number of vowels in '{input_string}' is: {count}\")\n",
    "\n",
    "count_vowels_in_string()"
   ]
  },
  {
   "cell_type": "markdown",
   "metadata": {},
   "source": [
    "## Bonus Exercises\n",
    "\n",
    "### Bonus Exercise 6: Reverse a String\n",
    "\n",
    "Write pseudocode to reverse a given string and print it out."
   ]
  },
  {
   "cell_type": "markdown",
   "metadata": {},
   "source": [
    "<!-- Add your pseudocode here -->"
   ]
  },
  {
   "cell_type": "markdown",
   "metadata": {},
   "source": [
    "Pseudocode:\n",
    "1. READ input_string from user\n",
    "2. SET reversed_string = \"\"\n",
    "3. FOR i = length of input_string - 1 DOWN TO 0\n",
    "4. &nbsp;&nbsp;&nbsp;&nbsp;&nbsp;SET reversed_string = reversed_string + input_string[i]\n",
    "5. END FOR\n",
    "6. PRINT reversed_string"
   ]
  },
  {
   "cell_type": "code",
   "execution_count": 23,
   "metadata": {},
   "outputs": [
    {
     "name": "stdout",
     "output_type": "stream",
     "text": [
      "The reversed string is: gninrael enihcam\n"
     ]
    }
   ],
   "source": [
    "def reverse_string():\n",
    "    input_string = input(\"Enter a string: \")\n",
    "    \n",
    "    reversed_string = \"\"\n",
    "    for i in range(len(input_string) - 1, -1, -1):\n",
    "        reversed_string += input_string[i]\n",
    "    print(f\"The reversed string is: {reversed_string}\")\n",
    "\n",
    "reverse_string()"
   ]
  },
  {
   "cell_type": "markdown",
   "metadata": {},
   "source": [
    "### Bonus Exercise 7: Print Multiplication Table of a Number\n",
    "\n",
    "Write pseudocode to print the multiplication table of a given number up to 10."
   ]
  },
  {
   "cell_type": "markdown",
   "metadata": {},
   "source": [
    "<!-- Add your pseudocode here -->"
   ]
  },
  {
   "cell_type": "markdown",
   "metadata": {},
   "source": [
    "Pseudocode:\n",
    "1. READ number from user\n",
    "2. FOR i = 1 TO 10\n",
    "3. &nbsp;&nbsp;&nbsp;&nbsp;SET result = number * i\n",
    "4. &nbsp;&nbsp;&nbsp;&nbsp;PRINT number, \"x\", i, \"=\", result\n",
    "5. END FOR\n",
    "6. CALL function"
   ]
  },
  {
   "cell_type": "code",
   "execution_count": 24,
   "metadata": {},
   "outputs": [
    {
     "name": "stdout",
     "output_type": "stream",
     "text": [
      "5 x 1 = 5\n",
      "5 x 2 = 10\n",
      "5 x 3 = 15\n",
      "5 x 4 = 20\n",
      "5 x 5 = 25\n",
      "5 x 6 = 30\n",
      "5 x 7 = 35\n",
      "5 x 8 = 40\n",
      "5 x 9 = 45\n",
      "5 x 10 = 50\n"
     ]
    }
   ],
   "source": [
    "def print_multiplication_table():\n",
    "    number = int(input(\"Enter a number: \"))\n",
    "    for i in range(1, 11):\n",
    "        result = number * i\n",
    "        print(f\"{number} x {i} = {result}\")\n",
    "print_multiplication_table()"
   ]
  },
  {
   "cell_type": "markdown",
   "metadata": {},
   "source": [
    "### Bonus Exercise 8: Count Words in a String\n",
    "\n",
    "Write pseudocode that counts the words in a given string and prints the result."
   ]
  },
  {
   "cell_type": "markdown",
   "metadata": {},
   "source": [
    "<!-- Add your pseudocode here -->"
   ]
  },
  {
   "cell_type": "markdown",
   "metadata": {},
   "source": [
    "Pseudocode:\n",
    "1. READ input_string from user\n",
    "2. TRIM input_string to remove leading and trailing spaces\n",
    "3. IF input_string is empty THEN\n",
    "4. &nbsp;&nbsp;&nbsp;&nbsp;SET word_count = 0\n",
    "5. ELSE\n",
    "6. &nbsp;&nbsp;&nbsp;&nbsp;SPLIT input_string by spaces into words\n",
    "7. &nbsp;&nbsp;&nbsp;&nbsp;SET word_count = number of elements in words\n",
    "8. END IF\n",
    "9. PRINT word_count\n",
    "10. CALL function                     "
   ]
  },
  {
   "cell_type": "code",
   "execution_count": 30,
   "metadata": {},
   "outputs": [
    {
     "name": "stdout",
     "output_type": "stream",
     "text": [
      "The number of words in the string is: 7\n"
     ]
    }
   ],
   "source": [
    "def count_words_in_string():\n",
    "    input_string = input(\"Enter a string: \")\n",
    "    \n",
    "    input_string = input_string.strip()\n",
    "    \n",
    "    if input_string == \"\":\n",
    "        word_count = 0\n",
    "    else:\n",
    "        words = input_string.split()\n",
    "        word_count = len(words)\n",
    "    print(f\"The number of words in the string is: {word_count}\")\n",
    "\n",
    "count_words_in_string()"
   ]
  },
  {
   "cell_type": "markdown",
   "metadata": {},
   "source": [
    "### Bonus Exercise 9: Find Factorial of a Number\n",
    "\n",
    "Write pseudocode that calculates the factorial of a given positive integer."
   ]
  },
  {
   "cell_type": "markdown",
   "metadata": {},
   "source": [
    "<!-- Add your pseudocode here -->"
   ]
  },
  {
   "cell_type": "markdown",
   "metadata": {},
   "source": [
    "Pseudocode:\n",
    "1. READ n from user\n",
    "2. IF n < 0 THEN\n",
    "3. &nbsp;&nbsp;&nbsp;&nbsp;PRINT \"Factorial is not defined for negative numbers\"\n",
    "4. ELSE IF n == 0 THEN\n",
    "5. &nbsp;&nbsp;&nbsp;&nbsp;PRINT \"Factorial of 0 is 1\"\n",
    "6. ELSE\n",
    "7. &nbsp;&nbsp;&nbsp;SET factorial = 1\n",
    "8. &nbsp;&nbsp;&nbsp;FOR i = 1 TO n\n",
    "9. &nbsp;&nbsp;&nbsp;&nbsp;SET factorial = factorial * i\n",
    "10. &nbsp;&nbsp;END FOR\n",
    "11. &nbsp;&nbsp;PRINT \"Factorial of\", n, \"is\", factorial\n",
    "12. END IF"
   ]
  },
  {
   "cell_type": "code",
   "execution_count": 25,
   "metadata": {},
   "outputs": [
    {
     "name": "stdout",
     "output_type": "stream",
     "text": [
      "Factorial of 2 is: 2\n"
     ]
    }
   ],
   "source": [
    "def find_factorial():\n",
    "    \n",
    "    n = int(input(\"Enter a non-negative integer: \"))\n",
    "    \n",
    "    if n < 0:\n",
    "        print(\"Factorial is not defined for negative numbers\")\n",
    "    elif n == 0:\n",
    "        print(\"Factorial of 0 is 1\")\n",
    "    else:\n",
    "        factorial = 1\n",
    "        for i in range(1, n + 1):\n",
    "            factorial *= i\n",
    "        print(f\"Factorial of {n} is: {factorial}\")\n",
    "\n",
    "find_factorial()"
   ]
  },
  {
   "cell_type": "markdown",
   "metadata": {},
   "source": [
    "### Bonus Exercise 10: FizzBuzz Problem\n",
    "\n",
    "Write pseudocode for the FizzBuzz problem where you print numbers from 1 to N but replace multiples of three with \"Fizz\" and multiples of five with \"Buzz\"."
   ]
  },
  {
   "cell_type": "markdown",
   "metadata": {},
   "source": [
    "<!-- Add your pseudocode here -->"
   ]
  },
  {
   "cell_type": "markdown",
   "metadata": {},
   "source": [
    "Pseudocode:\n",
    "1. READ n from user\n",
    "2. FOR i = 1 TO n\n",
    "3. &nbsp;&nbsp;&nbsp;&nbsp;IF i is divisible by both 3 and 5 THEN\n",
    "4. &nbsp;&nbsp;&nbsp;&nbsp;&nbsp;PRINT \"FizzBuzz\"\n",
    "5. &nbsp;&nbsp;ELSE IF i is divisible by 3 THEN\n",
    "6. &nbsp;&nbsp;&nbsp;&nbsp;&nbsp;PRINT \"Fizz\"\n",
    "7. &nbsp;&nbsp;ELSE IF i is divisible by 5 THEN\n",
    "8. &nbsp;&nbsp;&nbsp;&nbsp;PRINT \"Buzz\"\n",
    "9. &nbsp;&nbsp;ELSE\n",
    "10. &nbsp;&nbsp;&nbsp;&nbsp;PRINT i\n",
    "11. &nbsp;&nbsp;END IF\n",
    "12. END FOR\n",
    "13. CALL function"
   ]
  },
  {
   "cell_type": "code",
   "execution_count": 26,
   "metadata": {},
   "outputs": [
    {
     "name": "stdout",
     "output_type": "stream",
     "text": [
      "1\n",
      "2\n",
      "Fizz\n",
      "4\n",
      "Buzz\n",
      "Fizz\n"
     ]
    }
   ],
   "source": [
    "def fizzbuzz():\n",
    "    n = int(input(\"Enter a positive integer: \"))\n",
    "    for i in range(1, n + 1):\n",
    "        if i % 3 == 0 and i % 5 == 0:\n",
    "            print(\"FizzBuzz\")\n",
    "        elif i % 3 == 0:\n",
    "            print(\"Fizz\")\n",
    "        elif i % 5 == 0:\n",
    "            print(\"Buzz\")\n",
    "        else:\n",
    "            print(i)\n",
    "fizzbuzz()"
   ]
  }
 ],
 "metadata": {
  "kernelspec": {
   "display_name": "base",
   "language": "python",
   "name": "python3"
  },
  "language_info": {
   "codemirror_mode": {
    "name": "ipython",
    "version": 3
   },
   "file_extension": ".py",
   "mimetype": "text/x-python",
   "name": "python",
   "nbconvert_exporter": "python",
   "pygments_lexer": "ipython3",
   "version": "3.12.7"
  }
 },
 "nbformat": 4,
 "nbformat_minor": 2
}
